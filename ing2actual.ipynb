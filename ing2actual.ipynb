{
 "cells": [
  {
   "cell_type": "code",
   "execution_count": 1,
   "metadata": {},
   "outputs": [],
   "source": [
    "import pandas as pd\n",
    "\n",
    "#my_file = "
   ]
  },
  {
   "cell_type": "code",
   "execution_count": 2,
   "metadata": {},
   "outputs": [],
   "source": [
    "df = pd.read_csv('test.csv', encoding='latin_1', skiprows=13, sep=';')\n",
    "\n",
    "#print(df.to_string()) "
   ]
  },
  {
   "cell_type": "code",
   "execution_count": 3,
   "metadata": {},
   "outputs": [
    {
     "name": "stdout",
     "output_type": "stream",
     "text": [
      "          Date                                               Payee                                                                                               Notes    Amount\n",
      "0   11.04.2023                 PayPal Europe S.a.r.l. et Cie S.C.A  1026249471743 PP.8455.PP . Takeaway .com Payments B.V., Ihr Einkauf bei Takeaway.com Payments B.V.    -15,50\n",
      "1   04.04.2023                            VISA PATREON* MEMBERSHIP                         NR XXXX 3012 INTERNET IE KAUFUMSATZ 01.04 135633 ARN24871153091088790959710     -3,57\n",
      "2   04.04.2023                                                 ING                                     GIROCARD 250000901849 MONATLICHES ENTGELT GIROCARD (DEBITKARTE)     -0,99\n",
      "3   04.04.2023                            AMAZON MEDIA EU S.A R.L.                                                   D01-3633538-2850237 Kindle Svcs 4Z4 A9Q7NQGX92NBX     -9,99\n",
      "4   03.04.2023                                 Digitalcourage e.V.                                                                           Digitalcourage sagt Danke    -10,00\n",
      "5   03.04.2023                                     Guenther Ludwig                                                             Miete - Bei der Lohmuehle 21-1 Obersulm   -840,00\n",
      "6   03.04.2023                                 Christian Hasenfuss                                                                             Uebertrag Giro zu Extra   -350,00\n",
      "7   03.04.2023                    Bausparkasse Schwaebisch Hall AG                                                                                    CHRISTIAN STEGER   -110,00\n",
      "8   30.03.2023                 PayPal Europe S.a.r.l. et Cie S.C.A                                1026095192976 PP.8455.PP . Netflix. com, Ihr Einkauf bei Netflix.com    -12,99\n",
      "9   29.03.2023                                          Bechtle AG                                                                         Lohn/Gehalt 01403426/202303  3.098,25\n",
      "10  29.03.2023                                 VISA BAECKEREI KERN                  NR XXXX 3012 OBERSULM KAUFUMSATZ 27.03 190611 ARN74632233087002136910015 Apple Pay     -5,40\n",
      "11  29.03.2023                          VISA NETTO MARKEN-DISCOUNT                  NR XXXX 3012 OBERSULM KAUFUMSATZ 27.03 190511 ARN74830723086317110678441 Apple Pay    -23,89\n",
      "12  28.03.2023  Bargeldauszahlung VISA Card KREISSPARKASSE WAIBLIN                   NR XXXX 3012 SB WINN.SC BARGELDAUSZAHLUNG 25.03 150907 ARN74579843084030842455342   -150,00\n",
      "13  28.03.2023                         VISA BENZ WEIN- UND GETRAEN                 NR XXXX 3012 WINNENDEN KAUFUMSATZ 25.03 152232 ARN74573503086000278590338 Apple Pay    -50,20\n",
      "14  23.03.2023                            VISA PATREON* MEMBERSHIP                         NR XXXX 3012 INTERNET IE KAUFUMSATZ 21.03 091451 ARN24871153080088076099796     -4,76\n",
      "15  23.03.2023                       AMAZON PAYMENTS EUROPE S.C.A.                                                  028-8605689-8575555 AMZN Mktp DE 4H AJ5C8BQ99X8OIX    -39,95\n",
      "16  22.03.2023                                  VISA SNUSDIRECT.EU                           NR XXXX 3012 SKOVDE SE KAUFUMSATZ 18.03 105254 ARN74541093080061046653284   -269,40\n",
      "17  22.03.2023                 PayPal Europe S.a.r.l. et Cie S.C.A            1025936808250 . Blizzard Entertainm ent SAS, Ihr Einkauf bei Blizzard E ntertainment SAS    -69,99\n",
      "18  21.03.2023                 PayPal Europe S.a.r.l. et Cie S.C.A                                   1025913020776 PP.8455.PP . Spotify AB, Ihr Einkauf bei Spotify AB     -9,99\n",
      "19  21.03.2023                 PayPal Europe S.a.r.l. et Cie S.C.A                         1025892309483 PP.8455.PP . apfelban d GmbH, Ihr Einkauf bei apfelband G mbH    -38,78\n",
      "20  21.03.2023                 PayPal Europe S.a.r.l. et Cie S.C.A             1025892346599 PP.8455.PP . www.stea mpowered.com, Ihr Einkauf bei www.s teampowered.com    -12,49\n"
     ]
    },
    {
     "name": "stderr",
     "output_type": "stream",
     "text": [
      "/tmp/ipykernel_1028/1510834113.py:2: SettingWithCopyWarning: \n",
      "A value is trying to be set on a copy of a slice from a DataFrame\n",
      "\n",
      "See the caveats in the documentation: https://pandas.pydata.org/pandas-docs/stable/user_guide/indexing.html#returning-a-view-versus-a-copy\n",
      "  new_df.rename(columns={\n"
     ]
    }
   ],
   "source": [
    "new_df = df[[\"Buchung\", \"Auftraggeber/Empfänger\", \"Verwendungszweck\", \"Betrag\"]]\n",
    "new_df.rename(columns={\n",
    "    \"Buchung\" : \"Date\",\n",
    "    \"Auftraggeber/Empfänger\" : \"Payee\",\n",
    "    \"Verwendungszweck\" : \"Notes\",\n",
    "    \"Betrag\" : \"Amount\"\n",
    "}, inplace=True)\n",
    "print(new_df.to_string()) "
   ]
  },
  {
   "cell_type": "code",
   "execution_count": 4,
   "metadata": {},
   "outputs": [],
   "source": [
    "for row in new_df.index:\n",
    "    if new_df.loc[row, \"Payee\"].startswith('VISA'):\n",
    "        new_df.at[row, \"Payee\"] =  new_df.loc[row, \"Payee\"][5:].title() # remove 'VISA ' from payee and turn UPPER to Capitalized string\n"
   ]
  },
  {
   "cell_type": "code",
   "execution_count": 5,
   "metadata": {},
   "outputs": [],
   "source": [
    "def remove_at(i, s):\n",
    "    return s[:i] + s[i+1:]\n",
    "\n",
    "for row in new_df.index:\n",
    "    if new_df.loc[row, \"Payee\"] == 'PayPal Europe S.a.r.l. et Cie S.C.A':\n",
    "        # exported csv from ing has a space at position 35 in the notes for paypal-transactions for some reason...\n",
    "        if new_df.loc[row, \"Notes\"][35] == ' ':\n",
    "            new_df.at[row, \"Notes\"] = remove_at(35, new_df.at[row, \"Notes\"])\n",
    "        # replace paypal as payee with actual payee from notes\n",
    "        pos_from = new_df.loc[row, \"Notes\"].find(' . ') + 3\n",
    "        pos_to = new_df.loc[row, \"Notes\"].find(',')\n",
    "        actual_payee = new_df.loc[row, \"Notes\"][pos_from:pos_to]\n",
    "        new_df.at[row, \"Payee\"] = actual_payee\n"
   ]
  },
  {
   "cell_type": "code",
   "execution_count": 6,
   "metadata": {},
   "outputs": [
    {
     "name": "stdout",
     "output_type": "stream",
     "text": [
      "13\n",
      "42\n",
      "Blizzard Entertainment SAS\n"
     ]
    }
   ],
   "source": [
    "s = \"1025936808250 . Blizzard Entertainment SAS, Ihr Einkauf bei Blizzard E ntertainment SAS\"\n",
    "print(s.find(' . '))\n",
    "print(s.find(','))\n",
    "p = s[s.find(' . ')+3:s.find(',')]\n",
    "print(p)"
   ]
  },
  {
   "cell_type": "code",
   "execution_count": 7,
   "metadata": {},
   "outputs": [
    {
     "name": "stdout",
     "output_type": "stream",
     "text": [
      "          Date                                               Payee                                                                                              Notes    Amount\n",
      "0   11.04.2023                          Takeaway.com Payments B.V.  1026249471743 PP.8455.PP . Takeaway.com Payments B.V., Ihr Einkauf bei Takeaway.com Payments B.V.    -15,50\n",
      "1   04.04.2023                                 Patreon* Membership                        NR XXXX 3012 INTERNET IE KAUFUMSATZ 01.04 135633 ARN24871153091088790959710     -3,57\n",
      "2   04.04.2023                                                 ING                                    GIROCARD 250000901849 MONATLICHES ENTGELT GIROCARD (DEBITKARTE)     -0,99\n",
      "3   04.04.2023                            AMAZON MEDIA EU S.A R.L.                                                  D01-3633538-2850237 Kindle Svcs 4Z4 A9Q7NQGX92NBX     -9,99\n",
      "4   03.04.2023                                 Digitalcourage e.V.                                                                          Digitalcourage sagt Danke    -10,00\n",
      "5   03.04.2023                                     Guenther Ludwig                                                            Miete - Bei der Lohmuehle 21-1 Obersulm   -840,00\n",
      "6   03.04.2023                                 Christian Hasenfuss                                                                            Uebertrag Giro zu Extra   -350,00\n",
      "7   03.04.2023                    Bausparkasse Schwaebisch Hall AG                                                                                   CHRISTIAN STEGER   -110,00\n",
      "8   30.03.2023                                         Netflix.com                                1026095192976 PP.8455.PP . Netflix.com, Ihr Einkauf bei Netflix.com    -12,99\n",
      "9   29.03.2023                                          Bechtle AG                                                                        Lohn/Gehalt 01403426/202303  3.098,25\n",
      "10  29.03.2023                                      Baeckerei Kern                 NR XXXX 3012 OBERSULM KAUFUMSATZ 27.03 190611 ARN74632233087002136910015 Apple Pay     -5,40\n",
      "11  29.03.2023                               Netto Marken-Discount                 NR XXXX 3012 OBERSULM KAUFUMSATZ 27.03 190511 ARN74830723086317110678441 Apple Pay    -23,89\n",
      "12  28.03.2023  Bargeldauszahlung VISA Card KREISSPARKASSE WAIBLIN                  NR XXXX 3012 SB WINN.SC BARGELDAUSZAHLUNG 25.03 150907 ARN74579843084030842455342   -150,00\n",
      "13  28.03.2023                              Benz Wein- Und Getraen                NR XXXX 3012 WINNENDEN KAUFUMSATZ 25.03 152232 ARN74573503086000278590338 Apple Pay    -50,20\n",
      "14  23.03.2023                                 Patreon* Membership                        NR XXXX 3012 INTERNET IE KAUFUMSATZ 21.03 091451 ARN24871153080088076099796     -4,76\n",
      "15  23.03.2023                       AMAZON PAYMENTS EUROPE S.C.A.                                                 028-8605689-8575555 AMZN Mktp DE 4H AJ5C8BQ99X8OIX    -39,95\n",
      "16  22.03.2023                                       Snusdirect.Eu                          NR XXXX 3012 SKOVDE SE KAUFUMSATZ 18.03 105254 ARN74541093080061046653284   -269,40\n",
      "17  22.03.2023                          Blizzard Entertainment SAS            1025936808250 . Blizzard Entertainment SAS, Ihr Einkauf bei Blizzard E ntertainment SAS    -69,99\n",
      "18  21.03.2023                                          Spotify AB                                  1025913020776 PP.8455.PP . Spotify AB, Ihr Einkauf bei Spotify AB     -9,99\n",
      "19  21.03.2023                                      apfelband GmbH                         1025892309483 PP.8455.PP . apfelband GmbH, Ihr Einkauf bei apfelband G mbH    -38,78\n",
      "20  21.03.2023                                www.steampowered.com             1025892346599 PP.8455.PP . www.steampowered.com, Ihr Einkauf bei www.s teampowered.com    -12,49\n"
     ]
    }
   ],
   "source": [
    "print(new_df.to_string()) "
   ]
  },
  {
   "cell_type": "code",
   "execution_count": 9,
   "metadata": {},
   "outputs": [],
   "source": [
    "new_df.to_csv(path_or_buf='output.csv', sep=';', index=False)"
   ]
  }
 ],
 "metadata": {
  "kernelspec": {
   "display_name": "Python 3.8.10 ('env': venv)",
   "language": "python",
   "name": "python3"
  },
  "language_info": {
   "codemirror_mode": {
    "name": "ipython",
    "version": 3
   },
   "file_extension": ".py",
   "mimetype": "text/x-python",
   "name": "python",
   "nbconvert_exporter": "python",
   "pygments_lexer": "ipython3",
   "version": "3.8.10"
  },
  "orig_nbformat": 4,
  "vscode": {
   "interpreter": {
    "hash": "1b2a0863da658a8d27537cecfa8aecd3dd7c748c73b8eee5b2da8315508c134b"
   }
  }
 },
 "nbformat": 4,
 "nbformat_minor": 2
}
