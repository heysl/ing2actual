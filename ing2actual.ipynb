{
 "cells": [
  {
   "cell_type": "code",
   "execution_count": null,
   "metadata": {},
   "outputs": [],
   "source": [
    "import pandas as pd\n",
    "\n",
    "#my_file = "
   ]
  },
  {
   "cell_type": "code",
   "execution_count": null,
   "metadata": {},
   "outputs": [],
   "source": [
    "df = pd.read_csv('test.csv', encoding='latin_1', skiprows=13, sep=';')\n",
    "\n",
    "#print(df.to_string()) "
   ]
  },
  {
   "cell_type": "code",
   "execution_count": null,
   "metadata": {},
   "outputs": [],
   "source": [
    "new_df = df[[\"Buchung\", \"Auftraggeber/Empfänger\", \"Verwendungszweck\", \"Betrag\"]]\n",
    "new_df.rename(columns={\n",
    "    \"Buchung\" : \"Date\",\n",
    "    \"Auftraggeber/Empfänger\" : \"Payee\",\n",
    "    \"Verwendungszweck\" : \"Notes\",\n",
    "    \"Betrag\" : \"Amount\"\n",
    "}, inplace=True)\n",
    "print(new_df.to_string()) "
   ]
  },
  {
   "cell_type": "code",
   "execution_count": null,
   "metadata": {},
   "outputs": [],
   "source": [
    "for row in new_df.index:\n",
    "    if new_df.loc[row, \"Payee\"].startswith('VISA'):\n",
    "        new_df.at[row, \"Payee\"] =  new_df.loc[row, \"Payee\"][5:].title() # remove 'VISA ' from payee and turn UPPER to Capitalized string\n"
   ]
  },
  {
   "cell_type": "code",
   "execution_count": null,
   "metadata": {},
   "outputs": [],
   "source": [
    "def remove_at(i, s):\n",
    "    return s[:i] + s[i+1:]\n",
    "\n",
    "for row in new_df.index:\n",
    "    if new_df.loc[row, \"Payee\"] == 'PayPal Europe S.a.r.l. et Cie S.C.A':\n",
    "        # exported csv from ing has a space at position 35 in the notes for paypal-transactions for some reason...\n",
    "        if new_df.loc[row, \"Notes\"][35] == ' ':\n",
    "            new_df.at[row, \"Notes\"] = remove_at(35, new_df.at[row, \"Notes\"])\n",
    "        # replace paypal as payee with actual payee from notes\n",
    "        pos_from = new_df.loc[row, \"Notes\"].find(' . ') + 3\n",
    "        pos_to = new_df.loc[row, \"Notes\"].find(',')\n",
    "        actual_payee = new_df.loc[row, \"Notes\"][pos_from:pos_to]\n",
    "        new_df.at[row, \"Payee\"] = actual_payee\n"
   ]
  },
  {
   "cell_type": "code",
   "execution_count": null,
   "metadata": {},
   "outputs": [],
   "source": [
    "s = \"1025936808250 . Blizzard Entertainment SAS, Ihr Einkauf bei Blizzard E ntertainment SAS\"\n",
    "print(s.find(' . '))\n",
    "print(s.find(','))\n",
    "p = s[s.find(' . ')+3:s.find(',')]\n",
    "print(p)"
   ]
  },
  {
   "cell_type": "code",
   "execution_count": null,
   "metadata": {},
   "outputs": [],
   "source": [
    "print(new_df.to_string()) "
   ]
  },
  {
   "cell_type": "code",
   "execution_count": null,
   "metadata": {},
   "outputs": [],
   "source": [
    "new_df.to_csv(path_or_buf='output.csv', sep=';', index=False)"
   ]
  }
 ],
 "metadata": {
  "kernelspec": {
   "display_name": "Python 3.8.10 ('env': venv)",
   "language": "python",
   "name": "python3"
  },
  "language_info": {
   "codemirror_mode": {
    "name": "ipython",
    "version": 3
   },
   "file_extension": ".py",
   "mimetype": "text/x-python",
   "name": "python",
   "nbconvert_exporter": "python",
   "pygments_lexer": "ipython3",
   "version": "3.8.10"
  },
  "orig_nbformat": 4,
  "vscode": {
   "interpreter": {
    "hash": "1b2a0863da658a8d27537cecfa8aecd3dd7c748c73b8eee5b2da8315508c134b"
   }
  }
 },
 "nbformat": 4,
 "nbformat_minor": 2
}
